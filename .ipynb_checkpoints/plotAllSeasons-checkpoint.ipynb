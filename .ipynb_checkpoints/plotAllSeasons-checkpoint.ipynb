{
 "cells": [
  {
   "cell_type": "code",
   "execution_count": 1,
   "metadata": {
    "collapsed": true
   },
   "outputs": [],
   "source": [
    "#Script to make timeline plots of all the hurricane seasons in the database.\n",
    "#(or within a certain range)\n",
    "#Can iteratively improve the function and remake plots. \n",
    "#Can also save them."
   ]
  },
  {
   "cell_type": "code",
   "execution_count": 2,
   "metadata": {
    "collapsed": false
   },
   "outputs": [],
   "source": [
    "import pandas as pd\n",
    "import matplotlib.pyplot as plt\n",
    "import numpy as np\n",
    "import os\n",
    "import RetiredNames #Script in the directory"
   ]
  },
  {
   "cell_type": "code",
   "execution_count": 3,
   "metadata": {
    "collapsed": true
   },
   "outputs": [],
   "source": [
    "#####   DEFINITIONS   #####"
   ]
  },
  {
   "cell_type": "code",
   "execution_count": 4,
   "metadata": {
    "collapsed": false
   },
   "outputs": [
    {
     "name": "stdout",
     "output_type": "stream",
     "text": [
      "[  0  31  59  90 120 151 181 212 243 273 304 334]\n",
      "[  0  31  60  91 121 152 182 213 244 274 305 335]\n"
     ]
    }
   ],
   "source": [
    "#Function to convert date and time to a decimal number o days since start of year, starting at 1 for January 1st\n",
    "monthStartDays = np.cumsum([0, 31, 28, 31, 30, 31, 30, 31, 31, 30, 31, 30])\n",
    "print(monthStartDays)\n",
    "monthStartDaysLeap = np.cumsum([0, 31, 29, 31, 30, 31, 30, 31, 31, 30, 31, 30])\n",
    "print(monthStartDaysLeap)\n",
    "def yearday(date, time):\n",
    "    datestring = str(date)\n",
    "    #print(datestring)\n",
    "    year = int(datestring[0:4])\n",
    "    isLeap = np.mod(year,4) == 0\n",
    "    if year == 1900:\n",
    "        isLeap = False\n",
    "    month = int(datestring[4:6])\n",
    "    day = int(datestring[6:8])\n",
    "    if not isLeap:\n",
    "        yd = day + monthStartDays[month-1] #monthStartDays starts at 0 so this will start at 1\n",
    "    else:\n",
    "        yd = day + monthStartDaysLeap[month-1]\n",
    "    ydPlusTime = yd + time/2400.\n",
    "    return ydPlusTime"
   ]
  },
  {
   "cell_type": "code",
   "execution_count": 5,
   "metadata": {
    "collapsed": true
   },
   "outputs": [],
   "source": [
    "#Function to add a \"yearday\" column to the dataframe object for a storm.\n",
    "#May not be easy to vectorize this--function written to operate on individual integers rather than a list of them\n",
    "#Add 365 (or 366 if leap year) if storm goes past end of year\n",
    "def addYeardayColumn(df):\n",
    "    yeardays = np.zeros(len(df))\n",
    "    \n",
    "    #Find year for leap year determination\n",
    "    year = int(str(df['date'][0])[0:4])\n",
    "    if np.remainder(year, 4) == 0 and not year == 1900: #Leap year \n",
    "        yearlength = 366\n",
    "    else:\n",
    "        yearlength = 365    \n",
    "        \n",
    "    for i in range(len(df)):\n",
    "        yeardays[i] = yearday(df['date'][i], df['time'][i])\n",
    "        #Add year for wrap-around cases\n",
    "        if i > 0:\n",
    "            if yeardays[i] < 150 and yeardays[0] >= 150:\n",
    "                yeardays[i] = yeardays[i]+yearlength\n",
    "    df['yearday'] = yeardays"
   ]
  },
  {
   "cell_type": "code",
   "execution_count": 6,
   "metadata": {
    "collapsed": false
   },
   "outputs": [],
   "source": [
    "#Define colors for each category\n",
    "#cmap = plt.cm.inferno_r\n",
    "#cmap=plt.cm.spectral\n",
    "#cmap = plt.cm.viridis_r\n",
    "def categoryColors(wind):\n",
    "    if wind < 34:\n",
    "        return 'turquoise' #TD\n",
    "        #return cmap(0)\n",
    "    elif wind < 64:\n",
    "        return 'green' #TS\n",
    "        #return cmap(1./6.)\n",
    "    elif wind < 83:\n",
    "        return 'yellow' #Cat 1\n",
    "        #return cmap(2./6.)\n",
    "    elif wind < 96:\n",
    "        return 'orange' #Cat 2\n",
    "        #return cmap(3./6.)\n",
    "    elif wind < 113:\n",
    "        return 'red' #Cat 3\n",
    "        #return cmap(4./6.)\n",
    "    elif wind < 137:\n",
    "        return 'magenta' #Cat 4\n",
    "        #return cmap(5./6.)\n",
    "    else: \n",
    "        return 'black' #Cat 5\n",
    "        #return cmap(1)"
   ]
  },
  {
   "cell_type": "code",
   "execution_count": 7,
   "metadata": {
    "collapsed": true
   },
   "outputs": [],
   "source": [
    "#Return string for the category itself\n",
    "def category(wind):\n",
    "    if wind < 34:\n",
    "        return 'D' #TD\n",
    "    elif wind < 64:\n",
    "        return 'S' #TS\n",
    "    elif wind < 83:\n",
    "        return 'H1' #Cat 1\n",
    "    elif wind < 96:\n",
    "        return 'H2' #Cat 2\n",
    "    elif wind < 113:\n",
    "        return 'H3' #Cat 3\n",
    "    elif wind < 137:\n",
    "        return 'H4' #Cat 4\n",
    "    else: \n",
    "        return 'H5' #Cat 5"
   ]
  },
  {
   "cell_type": "code",
   "execution_count": 8,
   "metadata": {
    "collapsed": true
   },
   "outputs": [],
   "source": [
    "#Define function to plot bar for individual storm\n",
    "def hurrbar(df, position, thickness):\n",
    "    for i in range(len(df)):\n",
    "        if df['type'][i] in ['TD', 'TS', 'HU', 'SD', 'SS']: #Only plot tropical or subtropical cyclones, not remnant lows or ETs\n",
    "            if i == len(df)-1: #have reached end of storm--plot fixed length of 6 hours\n",
    "                plt.barh(position, 0.25, height=thickness, left=df['yearday'][i], \n",
    "                         color=categoryColors(df['wind'][i]))\n",
    "            else: #plot this color until the next advisory\n",
    "                plt.barh(position, df['yearday'][i+1] - df['yearday'][i], height=thickness, left=df['yearday'][i],\n",
    "                         color=categoryColors(df['wind'][i]))"
   ]
  },
  {
   "cell_type": "code",
   "execution_count": 9,
   "metadata": {
    "collapsed": false
   },
   "outputs": [],
   "source": [
    "#Define function to plot all storms for a year (this needs work)\n",
    "def plotSeason(year):\n",
    "    \n",
    "    #Get information for each storm\n",
    "    storms = os.listdir('data/'+str(year))\n",
    "    i = len(storms)\n",
    "    stormNames = list()\n",
    "    maxCategory = list()\n",
    "    \n",
    "    #Set up figure (height according to number of storms)\n",
    "    plt.figure(figsize = (15, np.max([5*8/14, 5*len(storms)/14])))\n",
    "    plt.axis([0, 366, 0, len(storms)+1])\n",
    "    #plt.gca().set_facecolor([0.7,0.7,1])\n",
    "    #plt.gca().set_facecolor([0.95, 0.95, 0.95])\n",
    "    #plt.gca().set_facecolor('blue')\n",
    "    \n",
    "    #Plot bar for each storm and find min and max times any storm existed, also max wind category\n",
    "    minyd = 1e10\n",
    "    maxyd = 0\n",
    "    for storm in storms:\n",
    "        df = pd.read_csv('data/'+str(year)+'/'+storm, skiprows=1, skipinitialspace=True)\n",
    "        addYeardayColumn(df)\n",
    "        hurrbar(df, i, 0.9)\n",
    "        stormNames.append(storm.split('_')[1].split('.')[0].lower().capitalize())\n",
    "#         print(category(np.max(df['wind'].values)))\n",
    "        maxCategory.append(category(np.max(df['wind'].values)))\n",
    "        i -= 1\n",
    "#         print(df['yearday'].values)\n",
    "#         print(np.min(df['yearday'].values))\n",
    "#         print(minyd)\n",
    "        minyd = np.min([minyd, np.min(df['yearday'].values)])\n",
    "        maxyd = np.max([maxyd, np.max(df['yearday'].values)])\n",
    "        \n",
    "    #Define month start days based on whether leap year or not\n",
    "    if np.remainder(year, 4) == 0 and not year == 1900: #Leap year\n",
    "        monthStartDays = np.cumsum([0, 31, 29, 31, 30, 31, 30, 31, 31, 30, 31, 30])\n",
    "    else:\n",
    "        monthStartDays = np.cumsum([0, 31, 28, 31, 30, 31, 30, 31, 31, 30, 31, 30])    \n",
    "    \n",
    "    #Y axis: storm names\n",
    "    plt.gca().set_yticks(np.arange(len(storms))+1)\n",
    "    plt.gca().set_yticklabels(stormNames[::-1], fontsize=14)\n",
    "    \n",
    "    #Set bold if storm name retired\n",
    "    if year in RetiredNames.Atlantic.keys():\n",
    "        for tick in plt.gca().yaxis.get_majorticklabels():\n",
    "            if tick.get_text() in RetiredNames.Atlantic[year]:\n",
    "                tick.set_weight('bold')\n",
    "    \n",
    "    #X axis: months\n",
    "    plt.gca().set_xticks(monthStartDays+15)\n",
    "    plt.vlines(monthStartDays, 0, len(storms)+1, linewidth=0.5, colors = [0.5, 0.5, 0.5], linestyles='solid', zorder=-1)\n",
    "    plt.gca().set_xticklabels(['Jan', 'Feb', 'Mar', 'Apr', 'May', 'Jun', 'Jul', 'Aug', 'Sep', 'Oct', 'Nov', 'Dec'], \n",
    "                              fontsize=14)\n",
    "    plt.gca().tick_params(axis='x', length=0)\n",
    "    #Title for year\n",
    "    plt.title(year, fontsize=18)\n",
    "    \n",
    "    #Zoom in X axis based on year \n",
    "    #(show June through November by default, earlier/later months if necessary)\n",
    "    if minyd > monthStartDays[5] and maxyd < monthStartDays[11]:\n",
    "        plt.gca().set_xlim(monthStartDays[5], monthStartDays[11])\n",
    "    elif minyd > monthStartDays[5]: #Show December\n",
    "        plt.gca().set_xlim(monthStartDays[5], monthStartDays[11]+31)\n",
    "    elif maxyd < monthStartDays[11]: #Show earlier months as necessary\n",
    "        plt.gca().set_xlim(np.max(monthStartDays[monthStartDays < minyd]), monthStartDays[11])\n",
    "    else: #Do both of above\n",
    "        plt.gca().set_xlim(np.max(monthStartDays[monthStartDays < minyd]), monthStartDays[11]+31)\n",
    "        \n",
    "    #Extend axis for January if goes past end of year (e.g. 2005) and add extra vlines\n",
    "    if maxyd > monthStartDays[11]+31:\n",
    "        monthStartDaysExtended = np.append(monthStartDays, monthStartDays[11]+31)\n",
    "        leftlim = plt.gca().get_xlim()[0]\n",
    "        plt.vlines(monthStartDaysExtended[11]+31, 0, len(storms)+1, linewidth=0.5, colors = [0.5, 0.5, 0.5], \n",
    "                   linestyles='solid', zorder=-1)\n",
    "        plt.gca().set_xticks(monthStartDaysExtended+15)\n",
    "        plt.gca().set_xticklabels(['Jan', 'Feb', 'Mar', 'Apr', 'May', 'Jun', 'Jul', 'Aug', 'Sep', 'Oct', 'Nov', 'Dec', 'Jan'],\n",
    "                                  fontsize=14)\n",
    "        plt.gca().set_xlim(leftlim, monthStartDaysExtended[12]+31)\n",
    "    \n",
    "    \n",
    "    #Max category reached on 2nd Y axis\n",
    "    ax2 = plt.gca().twinx()\n",
    "    ax2.set_ylim(0, len(storms)+1)\n",
    "    ax2.set_yticks(np.arange(len(storms))+1)    \n",
    "    ax2.set_yticklabels(maxCategory[::-1], fontsize=14)"
   ]
  },
  {
   "cell_type": "code",
   "execution_count": 10,
   "metadata": {
    "collapsed": true
   },
   "outputs": [],
   "source": [
    "#####   PLOTS   #####"
   ]
  },
  {
   "cell_type": "code",
   "execution_count": 11,
   "metadata": {
    "collapsed": true
   },
   "outputs": [],
   "source": [
    "#Define colors for each category \n",
    "#(further experimentation--didn't end up changing anything)\n",
    "#cmap = plt.cm.inferno_r\n",
    "#cmap=plt.cm.spectral\n",
    "#cmap = plt.cm.brg\n",
    "def categoryColors(wind):\n",
    "    if wind < 34:\n",
    "        return 'turquoise' #TD\n",
    "        #return 'darkturquoise'\n",
    "        #return 'lightgreen'\n",
    "        #return cmap(0)\n",
    "    elif wind < 64:\n",
    "        return 'green' #TS\n",
    "        #return 'limegreen'\n",
    "        #return cmap(1./6.)\n",
    "    elif wind < 83:\n",
    "        return 'yellow' #Cat 1\n",
    "        #return 'black'\n",
    "        #return cmap(2./6.)\n",
    "    elif wind < 96:\n",
    "        return 'orange' #Cat 2\n",
    "        #return 'gold' #Cat 2\n",
    "        #return cmap(3./6.)\n",
    "    elif wind < 113:\n",
    "        return 'red' #Cat 3\n",
    "        #return cmap(4./6.)\n",
    "    elif wind < 137:\n",
    "        return 'magenta' #Cat 4\n",
    "        #return cmap(5./6.)\n",
    "    else: \n",
    "        return 'black' #Cat 5\n",
    "        #return 'cornflowerblue'\n",
    "        #return cmap(1)"
   ]
  },
  {
   "cell_type": "code",
   "execution_count": 12,
   "metadata": {
    "collapsed": false,
    "scrolled": true
   },
   "outputs": [
    {
     "name": "stdout",
     "output_type": "stream",
     "text": [
      "2011\n",
      "2012\n",
      "2013\n",
      "2014\n",
      "2015\n",
      "2016\n",
      "2017\n"
     ]
    }
   ],
   "source": [
    "for year in np.arange(2011, 2018):\n",
    "    print(year)\n",
    "    plotSeason(year)\n",
    "    plt.savefig('plots/'+str(year)+'.png')\n",
    "    plt.savefig('plots/'+str(year)+'.pdf')"
   ]
  },
  {
   "cell_type": "code",
   "execution_count": 13,
   "metadata": {
    "collapsed": true
   },
   "outputs": [],
   "source": [
    "#What else to do?\n",
    "\n",
    "#Bold names for retired storms (x)\n",
    "#Max strength reached along right axis (x)\n",
    "#Change the colors (couldn't find anything I liked better than original)\n",
    "#Vlines in background instead of in front (x)\n",
    "#Save as png and pdf (x)\n",
    "#Color Legend"
   ]
  },
  {
   "cell_type": "code",
   "execution_count": 14,
   "metadata": {
    "collapsed": true
   },
   "outputs": [],
   "source": [
    "plt.close('all')"
   ]
  },
  {
   "cell_type": "code",
   "execution_count": 15,
   "metadata": {
    "collapsed": false,
    "scrolled": true
   },
   "outputs": [
    {
     "data": {
      "image/png": "[encoded data removed]",
      "text/plain": [
       "<matplotlib.figure.Figure at 0x267b987cfd0>"
      ]
     },
     "metadata": {},
     "output_type": "display_data"
    }
   ],
   "source": [
    "#Legend\n",
    "plt.figure(figsize=(5,10), frameon=False)\n",
    "plt.barh(1, 1, height=0.8, left=1, color=categoryColors(20))\n",
    "plt.barh(2, 1, height=0.8, left=1, color=categoryColors(50))\n",
    "plt.barh(3, 1, height=0.8, left=1, color=categoryColors(80))\n",
    "plt.barh(4, 1, height=0.8, left=1, color=categoryColors(90))\n",
    "plt.barh(5, 1, height=0.8, left=1, color=categoryColors(105))\n",
    "plt.barh(6, 1, height=0.8, left=1, color=categoryColors(120))\n",
    "plt.barh(7, 1, height=0.8, left=1, color=categoryColors(140))\n",
    "plt.axis([0.95, 2.05, 0.25, 7.75])\n",
    "plt.gca().xaxis.set_ticks_position('none')\n",
    "plt.gca().set_xticks([])\n",
    "plt.gca().set_yticks(np.arange(7)+1)\n",
    "plt.gca().set_yticklabels(['Depression', 'Storm', 'Category 1', 'Category 2', 'Category 3', 'Category 4', 'Category 5'], fontsize=20)\n",
    "plt.tight_layout()\n",
    "plt.savefig('plots/legend.png')\n",
    "plt.savefig('plots/legend.pdf')\n",
    "#[i.set_linewidth(0.1) for i in plt.gca().spines.itervalues()] #From https://stackoverflow.com/questions/1639463/matplotlib-border-width\n",
    "plt.show()"
   ]
  }
 ],
 "metadata": {
  "kernelspec": {
   "display_name": "Python 3",
   "language": "python",
   "name": "python3"
  },
  "language_info": {
   "codemirror_mode": {
    "name": "ipython",
    "version": 3
   },
   "file_extension": ".py",
   "mimetype": "text/x-python",
   "name": "python",
   "nbconvert_exporter": "python",
   "pygments_lexer": "ipython3",
   "version": "3.6.0"
  }
 },
 "nbformat": 4,
 "nbformat_minor": 2
}
