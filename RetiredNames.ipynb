{
 "cells": [
  {
   "cell_type": "code",
   "execution_count": 4,
   "metadata": {
    "collapsed": true
   },
   "outputs": [],
   "source": [
    "#List of retired storm names, for bolding in the \"plotAllSeasons\" notebook.\n",
    "#Dictionary, with key being year (int) and list of names in each year.\n",
    "#Will need to be saved as a python script so it can be imported.\n",
    "\n",
    "#For Pacific, include Central Pacific \n",
    "#retired names as these are included in HURDAT2. \n"
   ]
  },
  {
   "cell_type": "code",
   "execution_count": 5,
   "metadata": {
    "collapsed": true
   },
   "outputs": [],
   "source": [
    "Atlantic = {1954: ['Carol', 'Edna', 'Hazel'],\n",
    "            1955: ['Connie', 'Diane', 'Ione', 'Janet'],\n",
    "            1957: ['Audrey'], \n",
    "            1960: ['Donna'], \n",
    "            1961: ['Carla', 'Hattie'], \n",
    "            1963: ['Flora'], \n",
    "            1964: ['Cleo', 'Dora', 'Hilda'], \n",
    "            1965: ['Betsy'], \n",
    "            1966: ['Inez'], \n",
    "            1967: ['Beulah'], \n",
    "            1969: ['Camille'], \n",
    "            1970: ['Celia'], \n",
    "            1972: ['Agnes'], \n",
    "            1974: ['Carmen', 'Fifi'], \n",
    "            1975: ['Eloise'], \n",
    "            1977: ['Anita'], \n",
    "            1978: ['Greta'], \n",
    "            1979: ['David', 'Frederic'], \n",
    "            1980: ['Allen'], \n",
    "            1983: ['Alicia'], \n",
    "            1985: ['Elena', 'Gloria'], \n",
    "            1988: ['Gilbert', 'Joan'], \n",
    "            1989: ['Hugo'], \n",
    "            1990: ['Diana', 'Klaus'], \n",
    "            1991: ['Bob'], \n",
    "            1992: ['Andrew'], \n",
    "            1995: ['Luis', 'Marilyn', 'Opal', 'Roxanne'], \n",
    "            1996: ['Cesar', 'Fran', 'Hortense'], \n",
    "            1998: ['Georges', 'Mitch'], \n",
    "            1999: ['Floyd', 'Lenny'], \n",
    "            2000: ['Keith'], \n",
    "            2001: ['Allison', 'Iris', 'Michelle'], \n",
    "            2002: ['Isidore', 'Lili'], \n",
    "            2003: ['Fabian', 'Isabel', 'Juan'], \n",
    "            2004: ['Charley', 'Frances', 'Ivan', 'Jeanne'], \n",
    "            2005: ['Dennis', 'Katrina', 'Rita', 'Stan', 'Wilma'], \n",
    "            2007: ['Dean', 'Felix', 'Noel'], \n",
    "            2008: ['Gustav', 'Ike', 'Paloma'], \n",
    "            2010: ['Igor', 'Tomas'], \n",
    "            2011: ['Irene'], \n",
    "            2012: ['Sandy'], \n",
    "            2013: ['Ingrid'], \n",
    "            2015: ['Erika', 'Joaquin'], \n",
    "            2016: ['Matthew', 'Otto'], \n",
    "            2017: ['Harvey', 'Irma', 'Maria', 'Nate']\n",
    "           }"
   ]
  },
  {
   "cell_type": "code",
   "execution_count": 6,
   "metadata": {
    "collapsed": true
   },
   "outputs": [],
   "source": [
    "Pacific = {\n",
    "    #1965: ['Hazel'], #Retired for unknown reasons\n",
    "    #1970: ['Adele'], #Retired for unknown reasons\n",
    "    1978: ['Fico'], \n",
    "    1982: ['Iwa'], \n",
    "    #1987: ['Knut'], #Retired for unknown reasons\n",
    "    #1988: ['Iva'], #Retired due to similarity to Iwa\n",
    "    1991: ['Fefa'], \n",
    "    1992: ['Iniki'],\n",
    "    1995: ['Ismael'], \n",
    "    1997: ['Pauline', 'Paka'], \n",
    "    #2001: ['Adolph'], #Retired for political reasons\n",
    "    2002: ['Kenna'], \n",
    "    #2004: ['Isis'], #Retired for political reasons\n",
    "    2006: ['Ioke'],\n",
    "    2008: ['Alma'], \n",
    "    2013: ['Manuel'], \n",
    "    2014: ['Odile'], \n",
    "    2015: ['Patricia']\n",
    "}"
   ]
  },
  {
   "cell_type": "code",
   "execution_count": null,
   "metadata": {
    "collapsed": true
   },
   "outputs": [],
   "source": []
  }
 ],
 "metadata": {
  "kernelspec": {
   "display_name": "Python 3",
   "language": "python",
   "name": "python3"
  },
  "language_info": {
   "codemirror_mode": {
    "name": "ipython",
    "version": 3
   },
   "file_extension": ".py",
   "mimetype": "text/x-python",
   "name": "python",
   "nbconvert_exporter": "python",
   "pygments_lexer": "ipython3",
   "version": "3.6.0"
  }
 },
 "nbformat": 4,
 "nbformat_minor": 2
}
